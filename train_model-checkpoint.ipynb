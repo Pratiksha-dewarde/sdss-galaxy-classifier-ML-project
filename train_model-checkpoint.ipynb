{
 "cells": [
  {
   "cell_type": "markdown",
   "id": "5d621a91-ff9c-4932-b97c-c9324db1b7ec",
   "metadata": {},
   "source": [
    "# Importing the libraries"
   ]
  },
  {
   "cell_type": "code",
   "execution_count": 4,
   "id": "4f757d52-5202-45fc-b1b5-161db3c6a713",
   "metadata": {},
   "outputs": [],
   "source": [
    "# Import core libraries\n",
    "import pandas as pd\n",
    "import numpy as np\n",
    "import matplotlib.pyplot as plt\n",
    "import seaborn as sns\n",
    "\n",
    "# Import scikit-learn tools\n",
    "from sklearn.model_selection import train_test_split\n",
    "from sklearn.ensemble import RandomForestClassifier\n",
    "from sklearn.preprocessing import LabelEncoder\n",
    "from sklearn.metrics import accuracy_score, classification_report\n"
   ]
  },
  {
   "cell_type": "markdown",
   "id": "6a985fd0-4caf-47e5-a3ee-e027392f4a62",
   "metadata": {},
   "source": [
    "# Read the Dataset"
   ]
  },
  {
   "cell_type": "code",
   "execution_count": 5,
   "id": "1efa37b4-c43f-4ad4-bbc0-3b858c249470",
   "metadata": {},
   "outputs": [
    {
     "name": "stdout",
     "output_type": "stream",
     "text": [
      "['objid', 'specobjid', 'ra', 'dec', 'u', 'g', 'r', 'i', 'z', 'modelFlux_u', 'modelFlux_g', 'modelFlux_r', 'modelFlux_i', 'modelFlux_z', 'petroRad_u', 'petroRad_g', 'petroRad_i', 'petroRad_r', 'petroRad_z', 'petroFlux_u', 'petroFlux_g', 'petroFlux_i', 'petroFlux_r', 'petroFlux_z', 'petroR50_u', 'petroR50_g', 'petroR50_i', 'petroR50_r', 'petroR50_z', 'psfMag_u', 'psfMag_r', 'psfMag_g', 'psfMag_i', 'psfMag_z', 'expAB_u', 'expAB_g', 'expAB_r', 'expAB_i', 'expAB_z', 'class', 'subclass', 'redshift', 'redshift_err']\n"
     ]
    },
    {
     "data": {
      "text/html": [
       "<div>\n",
       "<style scoped>\n",
       "    .dataframe tbody tr th:only-of-type {\n",
       "        vertical-align: middle;\n",
       "    }\n",
       "\n",
       "    .dataframe tbody tr th {\n",
       "        vertical-align: top;\n",
       "    }\n",
       "\n",
       "    .dataframe thead th {\n",
       "        text-align: right;\n",
       "    }\n",
       "</style>\n",
       "<table border=\"1\" class=\"dataframe\">\n",
       "  <thead>\n",
       "    <tr style=\"text-align: right;\">\n",
       "      <th></th>\n",
       "      <th>objid</th>\n",
       "      <th>specobjid</th>\n",
       "      <th>ra</th>\n",
       "      <th>dec</th>\n",
       "      <th>u</th>\n",
       "      <th>g</th>\n",
       "      <th>r</th>\n",
       "      <th>i</th>\n",
       "      <th>z</th>\n",
       "      <th>modelFlux_u</th>\n",
       "      <th>...</th>\n",
       "      <th>psfMag_z</th>\n",
       "      <th>expAB_u</th>\n",
       "      <th>expAB_g</th>\n",
       "      <th>expAB_r</th>\n",
       "      <th>expAB_i</th>\n",
       "      <th>expAB_z</th>\n",
       "      <th>class</th>\n",
       "      <th>subclass</th>\n",
       "      <th>redshift</th>\n",
       "      <th>redshift_err</th>\n",
       "    </tr>\n",
       "  </thead>\n",
       "  <tbody>\n",
       "    <tr>\n",
       "      <th>0</th>\n",
       "      <td>1237646587710669400</td>\n",
       "      <td>8175185722644649984</td>\n",
       "      <td>82.038679</td>\n",
       "      <td>0.847177</td>\n",
       "      <td>21.73818</td>\n",
       "      <td>20.26633</td>\n",
       "      <td>19.32409</td>\n",
       "      <td>18.64037</td>\n",
       "      <td>18.23833</td>\n",
       "      <td>2.007378</td>\n",
       "      <td>...</td>\n",
       "      <td>19.43575</td>\n",
       "      <td>0.099951</td>\n",
       "      <td>0.311864</td>\n",
       "      <td>0.289370</td>\n",
       "      <td>0.270588</td>\n",
       "      <td>0.187182</td>\n",
       "      <td>GALAXY</td>\n",
       "      <td>STARFORMING</td>\n",
       "      <td>0.067749</td>\n",
       "      <td>0.000015</td>\n",
       "    </tr>\n",
       "    <tr>\n",
       "      <th>1</th>\n",
       "      <td>1237646588247540577</td>\n",
       "      <td>8175186822156277760</td>\n",
       "      <td>82.138894</td>\n",
       "      <td>1.063072</td>\n",
       "      <td>20.66761</td>\n",
       "      <td>19.32016</td>\n",
       "      <td>18.67888</td>\n",
       "      <td>18.24693</td>\n",
       "      <td>18.04122</td>\n",
       "      <td>5.403369</td>\n",
       "      <td>...</td>\n",
       "      <td>18.85012</td>\n",
       "      <td>0.366549</td>\n",
       "      <td>0.516876</td>\n",
       "      <td>0.517447</td>\n",
       "      <td>0.552297</td>\n",
       "      <td>0.636966</td>\n",
       "      <td>GALAXY</td>\n",
       "      <td>STARFORMING</td>\n",
       "      <td>0.105118</td>\n",
       "      <td>0.000010</td>\n",
       "    </tr>\n",
       "    <tr>\n",
       "      <th>2</th>\n",
       "      <td>1237646588247540758</td>\n",
       "      <td>8175187097034184704</td>\n",
       "      <td>82.028510</td>\n",
       "      <td>1.104003</td>\n",
       "      <td>23.63531</td>\n",
       "      <td>21.19671</td>\n",
       "      <td>19.92297</td>\n",
       "      <td>19.31443</td>\n",
       "      <td>18.68396</td>\n",
       "      <td>0.295693</td>\n",
       "      <td>...</td>\n",
       "      <td>19.42235</td>\n",
       "      <td>0.050000</td>\n",
       "      <td>0.417137</td>\n",
       "      <td>0.506950</td>\n",
       "      <td>0.549881</td>\n",
       "      <td>0.370166</td>\n",
       "      <td>GALAXY</td>\n",
       "      <td>STARFORMING</td>\n",
       "      <td>0.234089</td>\n",
       "      <td>0.000030</td>\n",
       "    </tr>\n",
       "    <tr>\n",
       "      <th>3</th>\n",
       "      <td>1237648702973083853</td>\n",
       "      <td>332152325571373056</td>\n",
       "      <td>198.544469</td>\n",
       "      <td>-1.097059</td>\n",
       "      <td>20.12374</td>\n",
       "      <td>18.41520</td>\n",
       "      <td>17.47202</td>\n",
       "      <td>17.05297</td>\n",
       "      <td>16.72423</td>\n",
       "      <td>8.920645</td>\n",
       "      <td>...</td>\n",
       "      <td>18.03204</td>\n",
       "      <td>0.310763</td>\n",
       "      <td>0.356827</td>\n",
       "      <td>0.389345</td>\n",
       "      <td>0.388160</td>\n",
       "      <td>0.416660</td>\n",
       "      <td>GALAXY</td>\n",
       "      <td>STARFORMING</td>\n",
       "      <td>0.110825</td>\n",
       "      <td>0.000030</td>\n",
       "    </tr>\n",
       "    <tr>\n",
       "      <th>4</th>\n",
       "      <td>1237648702973149350</td>\n",
       "      <td>332154249716721664</td>\n",
       "      <td>198.706864</td>\n",
       "      <td>-1.046217</td>\n",
       "      <td>-9999.00000</td>\n",
       "      <td>-9999.00000</td>\n",
       "      <td>18.37762</td>\n",
       "      <td>18.13383</td>\n",
       "      <td>17.78497</td>\n",
       "      <td>0.000000</td>\n",
       "      <td>...</td>\n",
       "      <td>19.02880</td>\n",
       "      <td>-9999.000000</td>\n",
       "      <td>-9999.000000</td>\n",
       "      <td>0.050000</td>\n",
       "      <td>0.050000</td>\n",
       "      <td>0.149973</td>\n",
       "      <td>GALAXY</td>\n",
       "      <td>STARFORMING</td>\n",
       "      <td>0.136658</td>\n",
       "      <td>0.000021</td>\n",
       "    </tr>\n",
       "  </tbody>\n",
       "</table>\n",
       "<p>5 rows × 43 columns</p>\n",
       "</div>"
      ],
      "text/plain": [
       "                 objid            specobjid          ra       dec           u  \\\n",
       "0  1237646587710669400  8175185722644649984   82.038679  0.847177    21.73818   \n",
       "1  1237646588247540577  8175186822156277760   82.138894  1.063072    20.66761   \n",
       "2  1237646588247540758  8175187097034184704   82.028510  1.104003    23.63531   \n",
       "3  1237648702973083853   332152325571373056  198.544469 -1.097059    20.12374   \n",
       "4  1237648702973149350   332154249716721664  198.706864 -1.046217 -9999.00000   \n",
       "\n",
       "            g         r         i         z  modelFlux_u  ...  psfMag_z  \\\n",
       "0    20.26633  19.32409  18.64037  18.23833     2.007378  ...  19.43575   \n",
       "1    19.32016  18.67888  18.24693  18.04122     5.403369  ...  18.85012   \n",
       "2    21.19671  19.92297  19.31443  18.68396     0.295693  ...  19.42235   \n",
       "3    18.41520  17.47202  17.05297  16.72423     8.920645  ...  18.03204   \n",
       "4 -9999.00000  18.37762  18.13383  17.78497     0.000000  ...  19.02880   \n",
       "\n",
       "       expAB_u      expAB_g   expAB_r   expAB_i   expAB_z   class  \\\n",
       "0     0.099951     0.311864  0.289370  0.270588  0.187182  GALAXY   \n",
       "1     0.366549     0.516876  0.517447  0.552297  0.636966  GALAXY   \n",
       "2     0.050000     0.417137  0.506950  0.549881  0.370166  GALAXY   \n",
       "3     0.310763     0.356827  0.389345  0.388160  0.416660  GALAXY   \n",
       "4 -9999.000000 -9999.000000  0.050000  0.050000  0.149973  GALAXY   \n",
       "\n",
       "      subclass  redshift  redshift_err  \n",
       "0  STARFORMING  0.067749      0.000015  \n",
       "1  STARFORMING  0.105118      0.000010  \n",
       "2  STARFORMING  0.234089      0.000030  \n",
       "3  STARFORMING  0.110825      0.000030  \n",
       "4  STARFORMING  0.136658      0.000021  \n",
       "\n",
       "[5 rows x 43 columns]"
      ]
     },
     "execution_count": 5,
     "metadata": {},
     "output_type": "execute_result"
    }
   ],
   "source": [
    "import pandas as pd\n",
    "\n",
    "# Skip the first row & load data properly\n",
    "df = pd.read_csv(\"data/sdss_100k_galaxy_form_burst.csv\", skiprows=1, low_memory=False)\n",
    "\n",
    "# Strip whitespace from column names\n",
    "df.columns = df.columns.str.strip()\n",
    "\n",
    "# Show columns\n",
    "print(df.columns.tolist())\n",
    "\n",
    "# Display first 5 rows\n",
    "df.head()\n"
   ]
  },
  {
   "cell_type": "markdown",
   "id": "72e5ce82-57a4-4605-bf7b-dad3b5564fb2",
   "metadata": {},
   "source": [
    "# Data Preparation"
   ]
  },
  {
   "cell_type": "code",
   "execution_count": 6,
   "id": "08c4663c-b0c5-427f-aacb-dba92b4e2116",
   "metadata": {},
   "outputs": [
    {
     "name": "stdout",
     "output_type": "stream",
     "text": [
      "['objid', 'specobjid', 'ra', 'dec', 'u', 'g', 'r', 'i', 'z', 'modelFlux_u', 'modelFlux_g', 'modelFlux_r', 'modelFlux_i', 'modelFlux_z', 'petroRad_u', 'petroRad_g', 'petroRad_i', 'petroRad_r', 'petroRad_z', 'petroFlux_u', 'petroFlux_g', 'petroFlux_i', 'petroFlux_r', 'petroFlux_z', 'petroR50_u', 'petroR50_g', 'petroR50_i', 'petroR50_r', 'petroR50_z', 'psfMag_u', 'psfMag_r', 'psfMag_g', 'psfMag_i', 'psfMag_z', 'expAB_u', 'expAB_g', 'expAB_r', 'expAB_i', 'expAB_z', 'class', 'subclass', 'redshift', 'redshift_err']\n"
     ]
    },
    {
     "data": {
      "text/html": [
       "<div>\n",
       "<style scoped>\n",
       "    .dataframe tbody tr th:only-of-type {\n",
       "        vertical-align: middle;\n",
       "    }\n",
       "\n",
       "    .dataframe tbody tr th {\n",
       "        vertical-align: top;\n",
       "    }\n",
       "\n",
       "    .dataframe thead th {\n",
       "        text-align: right;\n",
       "    }\n",
       "</style>\n",
       "<table border=\"1\" class=\"dataframe\">\n",
       "  <thead>\n",
       "    <tr style=\"text-align: right;\">\n",
       "      <th></th>\n",
       "      <th>objid</th>\n",
       "      <th>specobjid</th>\n",
       "      <th>ra</th>\n",
       "      <th>dec</th>\n",
       "      <th>u</th>\n",
       "      <th>g</th>\n",
       "      <th>r</th>\n",
       "      <th>i</th>\n",
       "      <th>z</th>\n",
       "      <th>modelFlux_u</th>\n",
       "      <th>...</th>\n",
       "      <th>psfMag_z</th>\n",
       "      <th>expAB_u</th>\n",
       "      <th>expAB_g</th>\n",
       "      <th>expAB_r</th>\n",
       "      <th>expAB_i</th>\n",
       "      <th>expAB_z</th>\n",
       "      <th>class</th>\n",
       "      <th>subclass</th>\n",
       "      <th>redshift</th>\n",
       "      <th>redshift_err</th>\n",
       "    </tr>\n",
       "  </thead>\n",
       "  <tbody>\n",
       "    <tr>\n",
       "      <th>0</th>\n",
       "      <td>1237646587710669400</td>\n",
       "      <td>8175185722644649984</td>\n",
       "      <td>82.038679</td>\n",
       "      <td>0.847177</td>\n",
       "      <td>21.73818</td>\n",
       "      <td>20.26633</td>\n",
       "      <td>19.32409</td>\n",
       "      <td>18.64037</td>\n",
       "      <td>18.23833</td>\n",
       "      <td>2.007378</td>\n",
       "      <td>...</td>\n",
       "      <td>19.43575</td>\n",
       "      <td>0.099951</td>\n",
       "      <td>0.311864</td>\n",
       "      <td>0.289370</td>\n",
       "      <td>0.270588</td>\n",
       "      <td>0.187182</td>\n",
       "      <td>GALAXY</td>\n",
       "      <td>STARFORMING</td>\n",
       "      <td>0.067749</td>\n",
       "      <td>0.000015</td>\n",
       "    </tr>\n",
       "    <tr>\n",
       "      <th>1</th>\n",
       "      <td>1237646588247540577</td>\n",
       "      <td>8175186822156277760</td>\n",
       "      <td>82.138894</td>\n",
       "      <td>1.063072</td>\n",
       "      <td>20.66761</td>\n",
       "      <td>19.32016</td>\n",
       "      <td>18.67888</td>\n",
       "      <td>18.24693</td>\n",
       "      <td>18.04122</td>\n",
       "      <td>5.403369</td>\n",
       "      <td>...</td>\n",
       "      <td>18.85012</td>\n",
       "      <td>0.366549</td>\n",
       "      <td>0.516876</td>\n",
       "      <td>0.517447</td>\n",
       "      <td>0.552297</td>\n",
       "      <td>0.636966</td>\n",
       "      <td>GALAXY</td>\n",
       "      <td>STARFORMING</td>\n",
       "      <td>0.105118</td>\n",
       "      <td>0.000010</td>\n",
       "    </tr>\n",
       "    <tr>\n",
       "      <th>2</th>\n",
       "      <td>1237646588247540758</td>\n",
       "      <td>8175187097034184704</td>\n",
       "      <td>82.028510</td>\n",
       "      <td>1.104003</td>\n",
       "      <td>23.63531</td>\n",
       "      <td>21.19671</td>\n",
       "      <td>19.92297</td>\n",
       "      <td>19.31443</td>\n",
       "      <td>18.68396</td>\n",
       "      <td>0.295693</td>\n",
       "      <td>...</td>\n",
       "      <td>19.42235</td>\n",
       "      <td>0.050000</td>\n",
       "      <td>0.417137</td>\n",
       "      <td>0.506950</td>\n",
       "      <td>0.549881</td>\n",
       "      <td>0.370166</td>\n",
       "      <td>GALAXY</td>\n",
       "      <td>STARFORMING</td>\n",
       "      <td>0.234089</td>\n",
       "      <td>0.000030</td>\n",
       "    </tr>\n",
       "    <tr>\n",
       "      <th>3</th>\n",
       "      <td>1237648702973083853</td>\n",
       "      <td>332152325571373056</td>\n",
       "      <td>198.544469</td>\n",
       "      <td>-1.097059</td>\n",
       "      <td>20.12374</td>\n",
       "      <td>18.41520</td>\n",
       "      <td>17.47202</td>\n",
       "      <td>17.05297</td>\n",
       "      <td>16.72423</td>\n",
       "      <td>8.920645</td>\n",
       "      <td>...</td>\n",
       "      <td>18.03204</td>\n",
       "      <td>0.310763</td>\n",
       "      <td>0.356827</td>\n",
       "      <td>0.389345</td>\n",
       "      <td>0.388160</td>\n",
       "      <td>0.416660</td>\n",
       "      <td>GALAXY</td>\n",
       "      <td>STARFORMING</td>\n",
       "      <td>0.110825</td>\n",
       "      <td>0.000030</td>\n",
       "    </tr>\n",
       "    <tr>\n",
       "      <th>4</th>\n",
       "      <td>1237648702973149350</td>\n",
       "      <td>332154249716721664</td>\n",
       "      <td>198.706864</td>\n",
       "      <td>-1.046217</td>\n",
       "      <td>-9999.00000</td>\n",
       "      <td>-9999.00000</td>\n",
       "      <td>18.37762</td>\n",
       "      <td>18.13383</td>\n",
       "      <td>17.78497</td>\n",
       "      <td>0.000000</td>\n",
       "      <td>...</td>\n",
       "      <td>19.02880</td>\n",
       "      <td>-9999.000000</td>\n",
       "      <td>-9999.000000</td>\n",
       "      <td>0.050000</td>\n",
       "      <td>0.050000</td>\n",
       "      <td>0.149973</td>\n",
       "      <td>GALAXY</td>\n",
       "      <td>STARFORMING</td>\n",
       "      <td>0.136658</td>\n",
       "      <td>0.000021</td>\n",
       "    </tr>\n",
       "  </tbody>\n",
       "</table>\n",
       "<p>5 rows × 43 columns</p>\n",
       "</div>"
      ],
      "text/plain": [
       "                 objid            specobjid          ra       dec           u  \\\n",
       "0  1237646587710669400  8175185722644649984   82.038679  0.847177    21.73818   \n",
       "1  1237646588247540577  8175186822156277760   82.138894  1.063072    20.66761   \n",
       "2  1237646588247540758  8175187097034184704   82.028510  1.104003    23.63531   \n",
       "3  1237648702973083853   332152325571373056  198.544469 -1.097059    20.12374   \n",
       "4  1237648702973149350   332154249716721664  198.706864 -1.046217 -9999.00000   \n",
       "\n",
       "            g         r         i         z  modelFlux_u  ...  psfMag_z  \\\n",
       "0    20.26633  19.32409  18.64037  18.23833     2.007378  ...  19.43575   \n",
       "1    19.32016  18.67888  18.24693  18.04122     5.403369  ...  18.85012   \n",
       "2    21.19671  19.92297  19.31443  18.68396     0.295693  ...  19.42235   \n",
       "3    18.41520  17.47202  17.05297  16.72423     8.920645  ...  18.03204   \n",
       "4 -9999.00000  18.37762  18.13383  17.78497     0.000000  ...  19.02880   \n",
       "\n",
       "       expAB_u      expAB_g   expAB_r   expAB_i   expAB_z   class  \\\n",
       "0     0.099951     0.311864  0.289370  0.270588  0.187182  GALAXY   \n",
       "1     0.366549     0.516876  0.517447  0.552297  0.636966  GALAXY   \n",
       "2     0.050000     0.417137  0.506950  0.549881  0.370166  GALAXY   \n",
       "3     0.310763     0.356827  0.389345  0.388160  0.416660  GALAXY   \n",
       "4 -9999.000000 -9999.000000  0.050000  0.050000  0.149973  GALAXY   \n",
       "\n",
       "      subclass  redshift  redshift_err  \n",
       "0  STARFORMING  0.067749      0.000015  \n",
       "1  STARFORMING  0.105118      0.000010  \n",
       "2  STARFORMING  0.234089      0.000030  \n",
       "3  STARFORMING  0.110825      0.000030  \n",
       "4  STARFORMING  0.136658      0.000021  \n",
       "\n",
       "[5 rows x 43 columns]"
      ]
     },
     "execution_count": 6,
     "metadata": {},
     "output_type": "execute_result"
    }
   ],
   "source": [
    "print(df.columns.tolist())\n",
    "df.head()"
   ]
  },
  {
   "cell_type": "code",
   "execution_count": 7,
   "id": "0a0e85cd-bddc-42a8-99ef-9097ae88f525",
   "metadata": {},
   "outputs": [
    {
     "name": "stdout",
     "output_type": "stream",
     "text": [
      "Shape of dataset: (100000, 43)\n",
      "<class 'pandas.core.frame.DataFrame'>\n",
      "RangeIndex: 100000 entries, 0 to 99999\n",
      "Data columns (total 43 columns):\n",
      " #   Column        Non-Null Count   Dtype  \n",
      "---  ------        --------------   -----  \n",
      " 0   objid         100000 non-null  int64  \n",
      " 1   specobjid     100000 non-null  uint64 \n",
      " 2   ra            100000 non-null  float64\n",
      " 3   dec           100000 non-null  float64\n",
      " 4   u             100000 non-null  float64\n",
      " 5   g             100000 non-null  float64\n",
      " 6   r             100000 non-null  float64\n",
      " 7   i             100000 non-null  float64\n",
      " 8   z             100000 non-null  float64\n",
      " 9   modelFlux_u   100000 non-null  float64\n",
      " 10  modelFlux_g   100000 non-null  float64\n",
      " 11  modelFlux_r   100000 non-null  float64\n",
      " 12  modelFlux_i   100000 non-null  float64\n",
      " 13  modelFlux_z   100000 non-null  float64\n",
      " 14  petroRad_u    100000 non-null  float64\n",
      " 15  petroRad_g    100000 non-null  float64\n",
      " 16  petroRad_i    100000 non-null  float64\n",
      " 17  petroRad_r    100000 non-null  float64\n",
      " 18  petroRad_z    100000 non-null  float64\n",
      " 19  petroFlux_u   100000 non-null  float64\n",
      " 20  petroFlux_g   100000 non-null  float64\n",
      " 21  petroFlux_i   100000 non-null  float64\n",
      " 22  petroFlux_r   100000 non-null  float64\n",
      " 23  petroFlux_z   100000 non-null  float64\n",
      " 24  petroR50_u    100000 non-null  float64\n",
      " 25  petroR50_g    100000 non-null  float64\n",
      " 26  petroR50_i    100000 non-null  float64\n",
      " 27  petroR50_r    100000 non-null  float64\n",
      " 28  petroR50_z    100000 non-null  float64\n",
      " 29  psfMag_u      100000 non-null  float64\n",
      " 30  psfMag_r      100000 non-null  float64\n",
      " 31  psfMag_g      100000 non-null  float64\n",
      " 32  psfMag_i      100000 non-null  float64\n",
      " 33  psfMag_z      100000 non-null  float64\n",
      " 34  expAB_u       100000 non-null  float64\n",
      " 35  expAB_g       100000 non-null  float64\n",
      " 36  expAB_r       100000 non-null  float64\n",
      " 37  expAB_i       100000 non-null  float64\n",
      " 38  expAB_z       100000 non-null  float64\n",
      " 39  class         100000 non-null  object \n",
      " 40  subclass      100000 non-null  object \n",
      " 41  redshift      100000 non-null  float64\n",
      " 42  redshift_err  100000 non-null  float64\n",
      "dtypes: float64(39), int64(1), object(2), uint64(1)\n",
      "memory usage: 32.8+ MB\n",
      "\n",
      "Missing values in each column:\n",
      " objid           0\n",
      "specobjid       0\n",
      "ra              0\n",
      "dec             0\n",
      "u               0\n",
      "g               0\n",
      "r               0\n",
      "i               0\n",
      "z               0\n",
      "modelFlux_u     0\n",
      "modelFlux_g     0\n",
      "modelFlux_r     0\n",
      "modelFlux_i     0\n",
      "modelFlux_z     0\n",
      "petroRad_u      0\n",
      "petroRad_g      0\n",
      "petroRad_i      0\n",
      "petroRad_r      0\n",
      "petroRad_z      0\n",
      "petroFlux_u     0\n",
      "petroFlux_g     0\n",
      "petroFlux_i     0\n",
      "petroFlux_r     0\n",
      "petroFlux_z     0\n",
      "petroR50_u      0\n",
      "petroR50_g      0\n",
      "petroR50_i      0\n",
      "petroR50_r      0\n",
      "petroR50_z      0\n",
      "psfMag_u        0\n",
      "psfMag_r        0\n",
      "psfMag_g        0\n",
      "psfMag_i        0\n",
      "psfMag_z        0\n",
      "expAB_u         0\n",
      "expAB_g         0\n",
      "expAB_r         0\n",
      "expAB_i         0\n",
      "expAB_z         0\n",
      "class           0\n",
      "subclass        0\n",
      "redshift        0\n",
      "redshift_err    0\n",
      "dtype: int64\n"
     ]
    }
   ],
   "source": [
    "# Check dataset shape\n",
    "print(\"Shape of dataset:\", df.shape)\n",
    "\n",
    "# Check data types and missing values\n",
    "df.info()\n",
    "\n",
    "# See basic statistics\n",
    "df.describe()\n",
    "\n",
    "# Check for missing values\n",
    "print(\"\\nMissing values in each column:\\n\", df.isnull().sum())\n"
   ]
  },
  {
   "cell_type": "code",
   "execution_count": 8,
   "id": "fc2a01c2-eda7-4136-b0a3-d70fdcdb874d",
   "metadata": {},
   "outputs": [
    {
     "data": {
      "text/html": [
       "<div>\n",
       "<style scoped>\n",
       "    .dataframe tbody tr th:only-of-type {\n",
       "        vertical-align: middle;\n",
       "    }\n",
       "\n",
       "    .dataframe tbody tr th {\n",
       "        vertical-align: top;\n",
       "    }\n",
       "\n",
       "    .dataframe thead th {\n",
       "        text-align: right;\n",
       "    }\n",
       "</style>\n",
       "<table border=\"1\" class=\"dataframe\">\n",
       "  <thead>\n",
       "    <tr style=\"text-align: right;\">\n",
       "      <th></th>\n",
       "      <th>objid</th>\n",
       "      <th>specobjid</th>\n",
       "      <th>ra</th>\n",
       "      <th>dec</th>\n",
       "      <th>u</th>\n",
       "      <th>g</th>\n",
       "      <th>r</th>\n",
       "      <th>i</th>\n",
       "      <th>z</th>\n",
       "      <th>modelFlux_u</th>\n",
       "      <th>...</th>\n",
       "      <th>psfMag_z</th>\n",
       "      <th>expAB_u</th>\n",
       "      <th>expAB_g</th>\n",
       "      <th>expAB_r</th>\n",
       "      <th>expAB_i</th>\n",
       "      <th>expAB_z</th>\n",
       "      <th>class</th>\n",
       "      <th>subclass</th>\n",
       "      <th>redshift</th>\n",
       "      <th>redshift_err</th>\n",
       "    </tr>\n",
       "  </thead>\n",
       "  <tbody>\n",
       "    <tr>\n",
       "      <th>0</th>\n",
       "      <td>1237646587710669400</td>\n",
       "      <td>8175185722644649984</td>\n",
       "      <td>82.038679</td>\n",
       "      <td>0.847177</td>\n",
       "      <td>21.73818</td>\n",
       "      <td>20.26633</td>\n",
       "      <td>19.32409</td>\n",
       "      <td>18.64037</td>\n",
       "      <td>18.23833</td>\n",
       "      <td>2.007378</td>\n",
       "      <td>...</td>\n",
       "      <td>19.43575</td>\n",
       "      <td>0.099951</td>\n",
       "      <td>0.311864</td>\n",
       "      <td>0.289370</td>\n",
       "      <td>0.270588</td>\n",
       "      <td>0.187182</td>\n",
       "      <td>GALAXY</td>\n",
       "      <td>STARFORMING</td>\n",
       "      <td>0.067749</td>\n",
       "      <td>0.000015</td>\n",
       "    </tr>\n",
       "    <tr>\n",
       "      <th>1</th>\n",
       "      <td>1237646588247540577</td>\n",
       "      <td>8175186822156277760</td>\n",
       "      <td>82.138894</td>\n",
       "      <td>1.063072</td>\n",
       "      <td>20.66761</td>\n",
       "      <td>19.32016</td>\n",
       "      <td>18.67888</td>\n",
       "      <td>18.24693</td>\n",
       "      <td>18.04122</td>\n",
       "      <td>5.403369</td>\n",
       "      <td>...</td>\n",
       "      <td>18.85012</td>\n",
       "      <td>0.366549</td>\n",
       "      <td>0.516876</td>\n",
       "      <td>0.517447</td>\n",
       "      <td>0.552297</td>\n",
       "      <td>0.636966</td>\n",
       "      <td>GALAXY</td>\n",
       "      <td>STARFORMING</td>\n",
       "      <td>0.105118</td>\n",
       "      <td>0.000010</td>\n",
       "    </tr>\n",
       "    <tr>\n",
       "      <th>2</th>\n",
       "      <td>1237646588247540758</td>\n",
       "      <td>8175187097034184704</td>\n",
       "      <td>82.028510</td>\n",
       "      <td>1.104003</td>\n",
       "      <td>23.63531</td>\n",
       "      <td>21.19671</td>\n",
       "      <td>19.92297</td>\n",
       "      <td>19.31443</td>\n",
       "      <td>18.68396</td>\n",
       "      <td>0.295693</td>\n",
       "      <td>...</td>\n",
       "      <td>19.42235</td>\n",
       "      <td>0.050000</td>\n",
       "      <td>0.417137</td>\n",
       "      <td>0.506950</td>\n",
       "      <td>0.549881</td>\n",
       "      <td>0.370166</td>\n",
       "      <td>GALAXY</td>\n",
       "      <td>STARFORMING</td>\n",
       "      <td>0.234089</td>\n",
       "      <td>0.000030</td>\n",
       "    </tr>\n",
       "    <tr>\n",
       "      <th>3</th>\n",
       "      <td>1237648702973083853</td>\n",
       "      <td>332152325571373056</td>\n",
       "      <td>198.544469</td>\n",
       "      <td>-1.097059</td>\n",
       "      <td>20.12374</td>\n",
       "      <td>18.41520</td>\n",
       "      <td>17.47202</td>\n",
       "      <td>17.05297</td>\n",
       "      <td>16.72423</td>\n",
       "      <td>8.920645</td>\n",
       "      <td>...</td>\n",
       "      <td>18.03204</td>\n",
       "      <td>0.310763</td>\n",
       "      <td>0.356827</td>\n",
       "      <td>0.389345</td>\n",
       "      <td>0.388160</td>\n",
       "      <td>0.416660</td>\n",
       "      <td>GALAXY</td>\n",
       "      <td>STARFORMING</td>\n",
       "      <td>0.110825</td>\n",
       "      <td>0.000030</td>\n",
       "    </tr>\n",
       "    <tr>\n",
       "      <th>4</th>\n",
       "      <td>1237648702973149350</td>\n",
       "      <td>332154249716721664</td>\n",
       "      <td>198.706864</td>\n",
       "      <td>-1.046217</td>\n",
       "      <td>-9999.00000</td>\n",
       "      <td>-9999.00000</td>\n",
       "      <td>18.37762</td>\n",
       "      <td>18.13383</td>\n",
       "      <td>17.78497</td>\n",
       "      <td>0.000000</td>\n",
       "      <td>...</td>\n",
       "      <td>19.02880</td>\n",
       "      <td>-9999.000000</td>\n",
       "      <td>-9999.000000</td>\n",
       "      <td>0.050000</td>\n",
       "      <td>0.050000</td>\n",
       "      <td>0.149973</td>\n",
       "      <td>GALAXY</td>\n",
       "      <td>STARFORMING</td>\n",
       "      <td>0.136658</td>\n",
       "      <td>0.000021</td>\n",
       "    </tr>\n",
       "  </tbody>\n",
       "</table>\n",
       "<p>5 rows × 43 columns</p>\n",
       "</div>"
      ],
      "text/plain": [
       "                 objid            specobjid          ra       dec           u  \\\n",
       "0  1237646587710669400  8175185722644649984   82.038679  0.847177    21.73818   \n",
       "1  1237646588247540577  8175186822156277760   82.138894  1.063072    20.66761   \n",
       "2  1237646588247540758  8175187097034184704   82.028510  1.104003    23.63531   \n",
       "3  1237648702973083853   332152325571373056  198.544469 -1.097059    20.12374   \n",
       "4  1237648702973149350   332154249716721664  198.706864 -1.046217 -9999.00000   \n",
       "\n",
       "            g         r         i         z  modelFlux_u  ...  psfMag_z  \\\n",
       "0    20.26633  19.32409  18.64037  18.23833     2.007378  ...  19.43575   \n",
       "1    19.32016  18.67888  18.24693  18.04122     5.403369  ...  18.85012   \n",
       "2    21.19671  19.92297  19.31443  18.68396     0.295693  ...  19.42235   \n",
       "3    18.41520  17.47202  17.05297  16.72423     8.920645  ...  18.03204   \n",
       "4 -9999.00000  18.37762  18.13383  17.78497     0.000000  ...  19.02880   \n",
       "\n",
       "       expAB_u      expAB_g   expAB_r   expAB_i   expAB_z   class  \\\n",
       "0     0.099951     0.311864  0.289370  0.270588  0.187182  GALAXY   \n",
       "1     0.366549     0.516876  0.517447  0.552297  0.636966  GALAXY   \n",
       "2     0.050000     0.417137  0.506950  0.549881  0.370166  GALAXY   \n",
       "3     0.310763     0.356827  0.389345  0.388160  0.416660  GALAXY   \n",
       "4 -9999.000000 -9999.000000  0.050000  0.050000  0.149973  GALAXY   \n",
       "\n",
       "      subclass  redshift  redshift_err  \n",
       "0  STARFORMING  0.067749      0.000015  \n",
       "1  STARFORMING  0.105118      0.000010  \n",
       "2  STARFORMING  0.234089      0.000030  \n",
       "3  STARFORMING  0.110825      0.000030  \n",
       "4  STARFORMING  0.136658      0.000021  \n",
       "\n",
       "[5 rows x 43 columns]"
      ]
     },
     "execution_count": 8,
     "metadata": {},
     "output_type": "execute_result"
    }
   ],
   "source": [
    "df.head()\n"
   ]
  },
  {
   "cell_type": "code",
   "execution_count": 9,
   "id": "9aa604a7-1a74-4ef4-96fe-0a3a8101667a",
   "metadata": {},
   "outputs": [
    {
     "name": "stdout",
     "output_type": "stream",
     "text": [
      "['objid', 'specobjid', 'ra', 'dec', 'u', 'g', 'r', 'i', 'z', 'modelFlux_u', 'modelFlux_g', 'modelFlux_r', 'modelFlux_i', 'modelFlux_z', 'petroRad_u', 'petroRad_g', 'petroRad_i', 'petroRad_r', 'petroRad_z', 'petroFlux_u', 'petroFlux_g', 'petroFlux_i', 'petroFlux_r', 'petroFlux_z', 'petroR50_u', 'petroR50_g', 'petroR50_i', 'petroR50_r', 'petroR50_z', 'psfMag_u', 'psfMag_r', 'psfMag_g', 'psfMag_i', 'psfMag_z', 'expAB_u', 'expAB_g', 'expAB_r', 'expAB_i', 'expAB_z', 'class', 'subclass', 'redshift', 'redshift_err']\n"
     ]
    }
   ],
   "source": [
    "print(df.columns.tolist())"
   ]
  },
  {
   "cell_type": "code",
   "execution_count": 10,
   "id": "888d9c97-0f79-480c-b443-c905dfc30145",
   "metadata": {},
   "outputs": [
    {
     "name": "stdout",
     "output_type": "stream",
     "text": [
      "Galaxy class mapping: {'GALAXY': 0}\n"
     ]
    }
   ],
   "source": [
    "# Drop rows with missing values (if any)\n",
    "df.dropna(inplace=True)\n",
    "\n",
    "# Encode the target class (Galaxy Type)\n",
    "le = LabelEncoder()\n",
    "df['class'] = le.fit_transform(df['class'])\n",
    "\n",
    "# Display mapping of galaxy types\n",
    "print(\"Galaxy class mapping:\", dict(zip(le.classes_, le.transform(le.classes_))))\n"
   ]
  },
  {
   "cell_type": "code",
   "execution_count": 11,
   "id": "de5e43df-4d1e-4964-bc08-82c974bfc005",
   "metadata": {},
   "outputs": [
    {
     "name": "stdout",
     "output_type": "stream",
     "text": [
      "Training set size: (80000, 42)\n",
      "Testing set size: (20000, 42)\n"
     ]
    }
   ],
   "source": [
    "# Features and target\n",
    "X = df.drop('class', axis=1)  # All columns except target\n",
    "y = df['class']               # Target variable\n",
    "\n",
    "# Split data: 80% train, 20% test\n",
    "X_train, X_test, y_train, y_test = train_test_split(X, y, \n",
    "                                                    test_size=0.2, \n",
    "                                                    random_state=42)\n",
    "print(\"Training set size:\", X_train.shape)\n",
    "print(\"Testing set size:\", X_test.shape)\n"
   ]
  },
  {
   "cell_type": "code",
   "execution_count": 13,
   "id": "7e5d21b2-1a32-42ff-8a9d-85cb87c12b24",
   "metadata": {},
   "outputs": [],
   "source": [
    "# Features: drop columns not useful for prediction\n",
    "X = df.drop(['objid', 'specobjid', 'subclass', 'class'], axis=1)\n",
    "\n",
    "# Target\n",
    "y = df['class']\n"
   ]
  },
  {
   "cell_type": "markdown",
   "id": "ab899093-3a9f-4631-b454-771f10b55708",
   "metadata": {},
   "source": [
    "# Handling Missing Values"
   ]
  },
  {
   "cell_type": "code",
   "execution_count": 14,
   "id": "c51322d8-2d3d-48b4-8abc-9554349f4469",
   "metadata": {},
   "outputs": [],
   "source": [
    "df.replace(-9999.0, np.nan, inplace=True)\n",
    "df.dropna(inplace=True)\n"
   ]
  },
  {
   "cell_type": "markdown",
   "id": "9c13d2b4-faf2-4bde-9f2d-617e0936e248",
   "metadata": {},
   "source": [
    "# Changing the datatype of subclass from object to int"
   ]
  },
  {
   "cell_type": "code",
   "execution_count": 15,
   "id": "7b4cbd73-6a25-43d2-bf7b-ed365c13ce78",
   "metadata": {},
   "outputs": [
    {
     "name": "stdout",
     "output_type": "stream",
     "text": [
      "Index(['objid', 'specobjid', 'ra', 'dec', 'u', 'g', 'r', 'i', 'z',\n",
      "       'modelFlux_u', 'modelFlux_g', 'modelFlux_r', 'modelFlux_i',\n",
      "       'modelFlux_z', 'petroRad_u', 'petroRad_g', 'petroRad_i', 'petroRad_r',\n",
      "       'petroRad_z', 'petroFlux_u', 'petroFlux_g', 'petroFlux_i',\n",
      "       'petroFlux_r', 'petroFlux_z', 'petroR50_u', 'petroR50_g', 'petroR50_i',\n",
      "       'petroR50_r', 'petroR50_z', 'psfMag_u', 'psfMag_r', 'psfMag_g',\n",
      "       'psfMag_i', 'psfMag_z', 'expAB_u', 'expAB_g', 'expAB_r', 'expAB_i',\n",
      "       'expAB_z', 'class', 'subclass', 'redshift', 'redshift_err'],\n",
      "      dtype='object')\n",
      "['STARFORMING' 'STARBURST']\n",
      "subclass\n",
      "STARFORMING    73518\n",
      "STARBURST      23960\n",
      "Name: count, dtype: int64\n"
     ]
    }
   ],
   "source": [
    "print(df.columns)\n",
    "print(df['subclass'].unique())\n",
    "print(df['subclass'].value_counts())\n"
   ]
  },
  {
   "cell_type": "code",
   "execution_count": 16,
   "id": "df0d8647-6843-4da1-aabd-02b5a6df176b",
   "metadata": {},
   "outputs": [
    {
     "name": "stdout",
     "output_type": "stream",
     "text": [
      "Subclass encoding: {'STARBURST': 0, 'STARFORMING': 1}\n",
      "✅ Features shape: (97478, 39)\n",
      "✅ Target distribution:\n",
      " subclass\n",
      "1    73518\n",
      "0    23960\n",
      "Name: count, dtype: int64\n"
     ]
    }
   ],
   "source": [
    "# Drop rows with missing values\n",
    "df.dropna(inplace=True)\n",
    "\n",
    "# Encode subclass as target variable\n",
    "from sklearn.preprocessing import LabelEncoder\n",
    "\n",
    "le = LabelEncoder()\n",
    "df['subclass'] = le.fit_transform(df['subclass'])  # 0 = STARBURST, 1 = STARFORMING\n",
    "print(\"Subclass encoding:\", dict(zip(le.classes_, le.transform(le.classes_))))\n",
    "\n",
    "# Features (X) and target (y)\n",
    "X = df.drop(['objid', 'specobjid', 'subclass', 'class'], axis=1)\n",
    "y = df['subclass']\n",
    "\n",
    "print(\"✅ Features shape:\", X.shape)\n",
    "print(\"✅ Target distribution:\\n\", y.value_counts())\n"
   ]
  },
  {
   "cell_type": "markdown",
   "id": "a8028c31-5748-4212-9886-d2bef5ef2e0d",
   "metadata": {},
   "source": [
    "# Descriptive statistical"
   ]
  },
  {
   "cell_type": "code",
   "execution_count": 17,
   "id": "e9f637f0-4331-4326-82d9-ed959988cbb5",
   "metadata": {},
   "outputs": [
    {
     "name": "stdout",
     "output_type": "stream",
     "text": [
      "              objid     specobjid            ra           dec             u  \\\n",
      "count  9.747800e+04  9.747800e+04  97478.000000  97478.000000  97478.000000   \n",
      "mean   1.237659e+18  2.205947e+18    180.871384     23.408281     19.535651   \n",
      "std    6.049277e+12  2.427249e+18     75.521237     21.139379      1.414031   \n",
      "min    1.237646e+18  2.994897e+17      0.008745    -11.244273     12.753830   \n",
      "25%    1.237655e+18  8.096168e+17    139.186151      3.096875     18.745285   \n",
      "50%    1.237659e+18  1.426538e+18    181.727246     20.678307     19.326030   \n",
      "75%    1.237663e+18  2.283458e+18    223.893171     42.135652     20.002553   \n",
      "max    1.237681e+18  1.412691e+19    359.997922     68.695258     30.327660   \n",
      "\n",
      "                  g             r             i             z   modelFlux_u  \\\n",
      "count  97478.000000  97478.000000  97478.000000  97478.000000  97478.000000   \n",
      "mean      18.286963     17.653960     17.295507     17.076613     31.280862   \n",
      "std        1.467872      1.455235      1.478748      1.515657     77.026785   \n",
      "min       11.822230     11.245440     10.711590     10.255130    -26.503830   \n",
      "25%       17.489463     16.882508     16.510883     16.263535      9.974552   \n",
      "50%       18.052690     17.441320     17.072225     16.841180     18.602125   \n",
      "75%       18.580872     17.855435     17.519850     17.368462     31.759725   \n",
      "max       28.207960     28.045800     25.092310     24.140990   7915.306000   \n",
      "\n",
      "       ...      psfMag_z       expAB_u       expAB_g       expAB_r  \\\n",
      "count  ...  97478.000000  97478.000000  97478.000000  97478.000000   \n",
      "mean   ...     18.686195      0.502952      0.581536      0.593237   \n",
      "std    ...      1.079401      0.249706      0.231337      0.223864   \n",
      "min    ...     14.304590      0.050000      0.050000      0.050000   \n",
      "25%    ...     17.977782      0.312424      0.403996      0.422141   \n",
      "50%    ...     18.537410      0.515580      0.592218      0.607269   \n",
      "75%    ...     19.235130      0.700799      0.770523      0.775138   \n",
      "max    ...     23.435990      1.000000      1.000000      0.999999   \n",
      "\n",
      "            expAB_i       expAB_z    class      subclass      redshift  \\\n",
      "count  97478.000000  97478.000000  97478.0  97478.000000  97478.000000   \n",
      "mean       0.592267      0.564087      0.0      0.754201      0.113784   \n",
      "std        0.224363      0.236591      0.0      0.430562      0.096034   \n",
      "min        0.050000      0.050000      0.0      0.000000     -0.000833   \n",
      "25%        0.421844      0.388564      0.0      1.000000      0.055660   \n",
      "50%        0.606766      0.579339      0.0      1.000000      0.085263   \n",
      "75%        0.774166      0.755234      0.0      1.000000      0.132940   \n",
      "max        1.000000      0.999998      0.0      1.000000      0.572899   \n",
      "\n",
      "       redshift_err  \n",
      "count  97478.000000  \n",
      "mean       0.000183  \n",
      "std        0.052860  \n",
      "min        0.000002  \n",
      "25%        0.000008  \n",
      "50%        0.000010  \n",
      "75%        0.000015  \n",
      "max       16.503710  \n",
      "\n",
      "[8 rows x 43 columns]\n",
      "class\n",
      "0    97478\n",
      "Name: count, dtype: int64\n",
      "objid             int64\n",
      "specobjid        uint64\n",
      "ra              float64\n",
      "dec             float64\n",
      "u               float64\n",
      "g               float64\n",
      "r               float64\n",
      "i               float64\n",
      "z               float64\n",
      "modelFlux_u     float64\n",
      "modelFlux_g     float64\n",
      "modelFlux_r     float64\n",
      "modelFlux_i     float64\n",
      "modelFlux_z     float64\n",
      "petroRad_u      float64\n",
      "petroRad_g      float64\n",
      "petroRad_i      float64\n",
      "petroRad_r      float64\n",
      "petroRad_z      float64\n",
      "petroFlux_u     float64\n",
      "petroFlux_g     float64\n",
      "petroFlux_i     float64\n",
      "petroFlux_r     float64\n",
      "petroFlux_z     float64\n",
      "petroR50_u      float64\n",
      "petroR50_g      float64\n",
      "petroR50_i      float64\n",
      "petroR50_r      float64\n",
      "petroR50_z      float64\n",
      "psfMag_u        float64\n",
      "psfMag_r        float64\n",
      "psfMag_g        float64\n",
      "psfMag_i        float64\n",
      "psfMag_z        float64\n",
      "expAB_u         float64\n",
      "expAB_g         float64\n",
      "expAB_r         float64\n",
      "expAB_i         float64\n",
      "expAB_z         float64\n",
      "class             int32\n",
      "subclass          int32\n",
      "redshift        float64\n",
      "redshift_err    float64\n",
      "dtype: object\n"
     ]
    }
   ],
   "source": [
    "# Summary statistics\n",
    "print(df.describe())\n",
    "\n",
    "# Check class distribution\n",
    "print(df['class'].value_counts())\n",
    "\n",
    "# Check data types\n",
    "print(df.dtypes)\n"
   ]
  },
  {
   "cell_type": "markdown",
   "id": "5bb9b430-f81d-4dfa-97d3-7e2751c0f80a",
   "metadata": {},
   "source": [
    "# Visual analysis"
   ]
  },
  {
   "cell_type": "code",
   "execution_count": 18,
   "id": "09e25739-0fdd-4af0-b45f-7dc63c777209",
   "metadata": {},
   "outputs": [
    {
     "data": {
      "image/png": "[encoded data removed]",
      "text/plain": [
       "<Figure size 640x480 with 1 Axes>"
      ]
     },
     "metadata": {},
     "output_type": "display_data"
    }
   ],
   "source": [
    "import seaborn as sns\n",
    "import matplotlib.pyplot as plt\n",
    "\n",
    "# Class distribution\n",
    "sns.countplot(x='class', data=df)\n",
    "plt.title(\"Galaxy Class Distribution\")\n",
    "plt.show()\n"
   ]
  },
  {
   "cell_type": "markdown",
   "id": "c35ec19b-ed7c-431d-90bd-b9bb656d5668",
   "metadata": {},
   "source": [
    "# Correlation heatmap"
   ]
  },
  {
   "cell_type": "code",
   "execution_count": 19,
   "id": "d453c105-593d-4e00-9f18-b20fa99b8942",
   "metadata": {},
   "outputs": [
    {
     "data": {
      "image/png": "[encoded data removed]",
      "text/plain": [
       "<Figure size 1200x800 with 2 Axes>"
      ]
     },
     "metadata": {},
     "output_type": "display_data"
    }
   ],
   "source": [
    "# Select only numeric columns\n",
    "numeric_df = df.select_dtypes(include=['number'])\n",
    "\n",
    "# Correlation heatmap\n",
    "plt.figure(figsize=(12,8))\n",
    "sns.heatmap(numeric_df.corr(), cmap='coolwarm', annot=False)\n",
    "plt.title(\"Correlation Heatmap\")\n",
    "plt.show()\n"
   ]
  },
  {
   "cell_type": "markdown",
   "id": "ae876cdd-d822-4da8-8b63-e634fff9ab82",
   "metadata": {},
   "source": [
    "# Handle Outliers"
   ]
  },
  {
   "cell_type": "code",
   "execution_count": 20,
   "id": "1cbd4a7f-a739-4af6-99b8-0bd4c2a9aeb6",
   "metadata": {},
   "outputs": [
    {
     "data": {
      "image/png": "[encoded data removed]",
      "text/plain": [
       "<Figure size 1500x500 with 1 Axes>"
      ]
     },
     "metadata": {},
     "output_type": "display_data"
    }
   ],
   "source": [
    "# Plot boxplots for numerical features\n",
    "df.plot(kind='box', figsize=(15,5))\n",
    "plt.show()\n"
   ]
  },
  {
   "cell_type": "markdown",
   "id": "a4492082-b1a4-4768-8042-cca80c32e9b7",
   "metadata": {},
   "source": [
    "# Select Best Features Using SelectKBest"
   ]
  },
  {
   "cell_type": "code",
   "execution_count": 21,
   "id": "f4774759-5eec-4190-bf24-020b66d63682",
   "metadata": {},
   "outputs": [
    {
     "name": "stdout",
     "output_type": "stream",
     "text": [
      "Selected feature indices: [ 3  4  5  6 22 23 24 25 30 31]\n",
      "Selected features: Index(['g', 'r', 'i', 'z', 'petroR50_u', 'petroR50_g', 'petroR50_i',\n",
      "       'petroR50_r', 'psfMag_i', 'psfMag_z'],\n",
      "      dtype='object')\n"
     ]
    }
   ],
   "source": [
    "from sklearn.feature_selection import SelectKBest, f_classif\n",
    "\n",
    "# Apply SelectKBest to extract top 10 features\n",
    "selector = SelectKBest(score_func=f_classif, k=10)\n",
    "X_new = selector.fit_transform(X, y)\n",
    "\n",
    "# Get selected feature indices\n",
    "selected_features = selector.get_support(indices=True)\n",
    "print(\"Selected feature indices:\", selected_features)\n",
    "\n",
    "# Get column names of selected features\n",
    "feature_names = X.columns[selected_features]\n",
    "print(\"Selected features:\", feature_names)\n"
   ]
  },
  {
   "cell_type": "markdown",
   "id": "e10fd937-de6f-4bf1-82e6-d793d79ec60c",
   "metadata": {},
   "source": [
    "# Balancing Value Counts using Smote"
   ]
  },
  {
   "cell_type": "code",
   "execution_count": 22,
   "id": "458af6c7-a615-49bc-8b89-94c6014c9f03",
   "metadata": {},
   "outputs": [
    {
     "name": "stdout",
     "output_type": "stream",
     "text": [
      "✅ Resampled dataset shape: (147036, 39)\n",
      "Resampled target distribution:\n",
      " subclass\n",
      "1    73518\n",
      "0    73518\n",
      "Name: count, dtype: int64\n"
     ]
    }
   ],
   "source": [
    "from imblearn.over_sampling import SMOTE\n",
    "\n",
    "smote = SMOTE(random_state=42)\n",
    "X_resampled, y_resampled = smote.fit_resample(X, y)\n",
    "\n",
    "print(\"✅ Resampled dataset shape:\", X_resampled.shape)\n",
    "print(\"Resampled target distribution:\\n\", pd.Series(y_resampled).value_counts())\n"
   ]
  },
  {
   "cell_type": "markdown",
   "id": "8c7d80bc-fe33-4471-9ae9-260e7586af29",
   "metadata": {},
   "source": [
    "# Scale Features"
   ]
  },
  {
   "cell_type": "code",
   "execution_count": 23,
   "id": "90bdaca3-2e04-4dfc-af01-b02a5d1ee44c",
   "metadata": {},
   "outputs": [
    {
     "name": "stdout",
     "output_type": "stream",
     "text": [
      "✅ Features scaled successfully.\n"
     ]
    }
   ],
   "source": [
    "from sklearn.preprocessing import StandardScaler\n",
    "\n",
    "scaler = StandardScaler()\n",
    "X_scaled = scaler.fit_transform(X_resampled)\n",
    "\n",
    "print(\"✅ Features scaled successfully.\")\n"
   ]
  },
  {
   "cell_type": "code",
   "execution_count": 24,
   "id": "49c2d17b-445f-4a01-91a6-31a32c0a8a19",
   "metadata": {},
   "outputs": [
    {
     "name": "stdout",
     "output_type": "stream",
     "text": [
      "✅ Resampled dataset shape: (147036, 39)\n",
      "✅ Resampled class distribution:\n",
      " subclass\n",
      "1    73518\n",
      "0    73518\n",
      "Name: count, dtype: int64\n"
     ]
    }
   ],
   "source": [
    "from imblearn.over_sampling import SMOTE\n",
    "\n",
    "# Apply SMOTE to balance the dataset\n",
    "smote = SMOTE(random_state=42)\n",
    "X_resampled, y_resampled = smote.fit_resample(X, y)\n",
    "\n",
    "# Check new class distribution\n",
    "import pandas as pd\n",
    "print(\"✅ Resampled dataset shape:\", X_resampled.shape)\n",
    "print(\"✅ Resampled class distribution:\\n\", pd.Series(y_resampled).value_counts())\n"
   ]
  },
  {
   "cell_type": "markdown",
   "id": "a6d19eaf-4ce0-4052-a072-7baa311db660",
   "metadata": {},
   "source": [
    "# Splitting data into training and testing"
   ]
  },
  {
   "cell_type": "code",
   "execution_count": 25,
   "id": "7953bc16-3930-4e9b-9a84-87dac5cf7665",
   "metadata": {},
   "outputs": [
    {
     "name": "stdout",
     "output_type": "stream",
     "text": [
      "✅ Training set shape: (117628, 39)\n",
      "✅ Test set shape: (29408, 39)\n"
     ]
    }
   ],
   "source": [
    "from sklearn.model_selection import train_test_split\n",
    "\n",
    "# Split the data\n",
    "X_train, X_test, y_train, y_test = train_test_split(\n",
    "    X_resampled, y_resampled, test_size=0.2, random_state=42, stratify=y_resampled\n",
    ")\n",
    "\n",
    "print(\"✅ Training set shape:\", X_train.shape)\n",
    "print(\"✅ Test set shape:\", X_test.shape)\n"
   ]
  },
  {
   "cell_type": "markdown",
   "id": "f9ad80ce-53ab-454f-86c5-7b8d974f686e",
   "metadata": {},
   "source": [
    "# training the model using Random Forest classifier"
   ]
  },
  {
   "cell_type": "code",
   "execution_count": 26,
   "id": "154bea5e-c6cf-456a-8196-2b6507884af6",
   "metadata": {},
   "outputs": [
    {
     "name": "stdout",
     "output_type": "stream",
     "text": [
      "✅ Model trained successfully!\n"
     ]
    }
   ],
   "source": [
    "from sklearn.ensemble import RandomForestClassifier\n",
    "\n",
    "# Create and train the model\n",
    "model = RandomForestClassifier(random_state=42)\n",
    "model.fit(X_train, y_train)\n",
    "\n",
    "print(\"✅ Model trained successfully!\")\n"
   ]
  },
  {
   "cell_type": "markdown",
   "id": "a28062e8-316f-4737-9f96-5034c450e961",
   "metadata": {},
   "source": [
    "# Model Deployment "
   ]
  },
  {
   "cell_type": "code",
   "execution_count": 27,
   "id": "5192fb46-fb73-4e12-846e-6942d9ad59d8",
   "metadata": {},
   "outputs": [
    {
     "name": "stdout",
     "output_type": "stream",
     "text": [
      "✅ Accuracy on test set: 91.17 %\n",
      "\n",
      "📊 Classification Report:\n",
      "               precision    recall  f1-score   support\n",
      "\n",
      "   STARBURST       0.89      0.94      0.91     14704\n",
      " STARFORMING       0.94      0.88      0.91     14704\n",
      "\n",
      "    accuracy                           0.91     29408\n",
      "   macro avg       0.91      0.91      0.91     29408\n",
      "weighted avg       0.91      0.91      0.91     29408\n",
      "\n"
     ]
    },
    {
     "data": {
      "image/png": "[encoded data removed]",
      "text/plain": [
       "<Figure size 600x400 with 2 Axes>"
      ]
     },
     "metadata": {},
     "output_type": "display_data"
    }
   ],
   "source": [
    "from sklearn.metrics import classification_report, accuracy_score, confusion_matrix\n",
    "\n",
    "# Make predictions on the test set\n",
    "y_pred = model.predict(X_test)\n",
    "\n",
    "# Evaluate accuracy\n",
    "accuracy = accuracy_score(y_test, y_pred)\n",
    "print(\"✅ Accuracy on test set:\", round(accuracy * 100, 2), \"%\")\n",
    "\n",
    "# Print classification report\n",
    "print(\"\\n📊 Classification Report:\\n\", classification_report(y_test, y_pred, target_names=['STARBURST', 'STARFORMING']))\n",
    "\n",
    "# Show confusion matrix\n",
    "import seaborn as sns\n",
    "import matplotlib.pyplot as plt\n",
    "\n",
    "cm = confusion_matrix(y_test, y_pred)\n",
    "plt.figure(figsize=(6,4))\n",
    "sns.heatmap(cm, annot=True, fmt='d', cmap='Blues', xticklabels=['STARBURST', 'STARFORMING'], yticklabels=['STARBURST', 'STARFORMING'])\n",
    "plt.xlabel('Predicted')\n",
    "plt.ylabel('Actual')\n",
    "plt.title('Confusion Matrix')\n",
    "plt.show()\n"
   ]
  },
  {
   "cell_type": "markdown",
   "id": "3a031fc0-1802-468c-a89b-006e7780c903",
   "metadata": {},
   "source": [
    "# save the model"
   ]
  },
  {
   "cell_type": "code",
   "execution_count": 28,
   "id": "c94f1694-75da-47bd-8847-b48cdd3ec600",
   "metadata": {},
   "outputs": [
    {
     "name": "stdout",
     "output_type": "stream",
     "text": [
      "✅ Model saved successfully as model.pkl\n"
     ]
    }
   ],
   "source": [
    "import joblib\n",
    "\n",
    "# Save the model to a file\n",
    "joblib.dump(model, \"model.pkl\")\n",
    "\n",
    "print(\"✅ Model saved successfully as model.pkl\")\n"
   ]
  },
  {
   "cell_type": "markdown",
   "id": "b189c779-65ab-4463-ab1b-18d6907a02c1",
   "metadata": {},
   "source": [
    "# Testing of model"
   ]
  },
  {
   "cell_type": "code",
   "execution_count": 34,
   "id": "ad5f569c-8fe1-4997-ac15-7e1158bb9a93",
   "metadata": {},
   "outputs": [
    {
     "name": "stdout",
     "output_type": "stream",
     "text": [
      "✅ Predicted Galaxy Type: STARFORMING\n"
     ]
    },
    {
     "name": "stderr",
     "output_type": "stream",
     "text": [
      "C:\\Users\\rohan\\AppData\\Local\\Programs\\Python\\Python312\\Lib\\site-packages\\sklearn\\utils\\validation.py:2739: UserWarning: X does not have valid feature names, but RandomForestClassifier was fitted with feature names\n",
      "  warnings.warn(\n"
     ]
    }
   ],
   "source": [
    "import joblib\n",
    "import numpy as np\n",
    "\n",
    "# Load your saved model\n",
    "model = joblib.load('model.pkl')\n",
    "\n",
    "# Example: enter **10 feature values**\n",
    "test_input = [149.3, 1.78, 18.5, 17.2, 16.8, 100, 95, 1.2, 0.85, 0.0001]\n",
    "\n",
    "# Fill missing features (model expects 39 features)\n",
    "# We'll use zeros for remaining features for testing\n",
    "missing_features = [0] * (39 - len(test_input))\n",
    "\n",
    "# Combine input with missing features\n",
    "final_input = test_input + missing_features\n",
    "\n",
    "# Reshape into 2D array for prediction\n",
    "final_input = np.array(final_input).reshape(1, -1)\n",
    "\n",
    "# Predict galaxy type\n",
    "prediction = model.predict(final_input)[0]\n",
    "\n",
    "# Map prediction to class name\n",
    "if prediction == 1:\n",
    "    print(\"✅ Predicted Galaxy Type: STARFORMING\")\n",
    "else:\n",
    "    print(\"✅ Predicted Galaxy Type: STARBURST\")"
   ]
  },
  {
   "cell_type": "code",
   "execution_count": 30,
   "id": "22681bbb-8aa4-4c50-9d8d-6110cddbb3eb",
   "metadata": {},
   "outputs": [
    {
     "name": "stdout",
     "output_type": "stream",
     "text": [
      "✅ Predicted Galaxy Type: STARBURST\n"
     ]
    },
    {
     "name": "stderr",
     "output_type": "stream",
     "text": [
      "C:\\Users\\rohan\\AppData\\Local\\Programs\\Python\\Python312\\Lib\\site-packages\\sklearn\\utils\\validation.py:2739: UserWarning: X does not have valid feature names, but RandomForestClassifier was fitted with feature names\n",
      "  warnings.warn(\n"
     ]
    }
   ],
   "source": [
    "import joblib\n",
    "import numpy as np\n",
    "\n",
    "# Load your saved model\n",
    "model = joblib.load('model.pkl')\n",
    "\n",
    "# Example: enter **10 feature values**\n",
    "test_input = [149.3, 1.78, 18.5, 17.2, 16.8, 100, 95, 1.2, 0.85, 0.0001]\n",
    "\n",
    "# Fill missing features (model expects 39 features)\n",
    "# We'll use zeros for remaining features for testing\n",
    "missing_features = [0] * (39 - len(test_input))\n",
    "\n",
    "# Combine input with missing features\n",
    "final_input = test_input + missing_features\n",
    "\n",
    "# Reshape into 2D array for prediction\n",
    "final_input = np.array(final_input).reshape(1, -1)\n",
    "\n",
    "# Predict galaxy type\n",
    "prediction = model.predict(final_input)[0]\n",
    "\n",
    "# Map prediction to class name\n",
    "if prediction == 0:\n",
    "    print(\"✅ Predicted Galaxy Type: STARFORMING\")\n",
    "else:\n",
    "    print(\"✅ Predicted Galaxy Type: STARBURST\")"
   ]
  },
  {
   "cell_type": "code",
   "execution_count": null,
   "id": "9e095534-f703-45cf-91e4-33c2a94402ea",
   "metadata": {},
   "outputs": [],
   "source": []
  }
 ],
 "metadata": {
  "kernelspec": {
   "display_name": "Python 3 (ipykernel)",
   "language": "python",
   "name": "python3"
  },
  "language_info": {
   "codemirror_mode": {
    "name": "ipython",
    "version": 3
   },
   "file_extension": ".py",
   "mimetype": "text/x-python",
   "name": "python",
   "nbconvert_exporter": "python",
   "pygments_lexer": "ipython3",
   "version": "3.12.2"
  }
 },
 "nbformat": 4,
 "nbformat_minor": 5
}
